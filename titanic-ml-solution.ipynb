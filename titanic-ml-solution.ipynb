{
 "cells": [
  {
   "cell_type": "markdown",
   "metadata": {},
   "source": [
    "# Titanic: Aprendizaje Automático del Desastre\n",
    "\n",
    "\n",
    "### Resumen\n",
    "\n",
    "Los datos han sido divididos en 2 grupos:\n",
    "\n",
    "training set (train.csv)\n",
    "test set (test.csv)\n",
    "\n",
    "El conjunto de entrenamiento deberá ser utilizado para construir el/los modelo/s de aprendizaje automático. Para el conjunto de entrenamiento, se dará el resultado (también conocido como \"verdad básica\") para cada pasajero. Su modelo, deberá estar basado en \"características\" como el géneros o clase de los pasajeros. También puedes jugar con algunas características para crear las tuyas propias.\n",
    "\n",
    "El conjunto de prueba debe usarse para ver qué tan bien se desempeña su modelo en datos sin clasificar. Para el conjunto de pruebas, no proporcionamos la verdad básica para cada pasajero. Debes poder predecir estos resultados. Para cada pasajero en el conjunto de pruebas, use el modelo que entrenó para predecir si sobrevivieron o no al hundimiento del Titanic.\n",
    "\n",
    "También incluimos gender_submission.csv, un conjunto de predicciones que asumen que todas las pasajeros y solo las mujeres sobreviven, como ejemplo de cómo debería ser un archivo de envío\n"
   ]
  },
  {
   "cell_type": "markdown",
   "metadata": {},
   "source": [
    "## Parte 1: Carga y Preprocesamiento de Datos\n",
    "\n",
    "En esta parte se limpian los datos para realizar un mayor análisis y modelo predictivo de estos: \n",
    "\n",
    "- ¿Qué variables se presentan en el conjunto de datos?\n",
    "- ¿Qué tipo de variables posee el conjunto de datos?\n",
    "- ¿Poseen las variables del conjunto de entrenamiento y el conjunto de prueba las mismas características?\n",
    "- ¿Existen atributos con propiedades vacías?\n",
    "- ¿Existen outliers en los conjuntos de datos?"
   ]
  },
  {
   "cell_type": "code",
   "execution_count": 2,
   "metadata": {},
   "outputs": [],
   "source": [
    "# Importing Libraries\n",
    "import numpy as np\n",
    "import pandas as pd\n",
    "import matplotlib.pyplot as plt\n",
    "import seaborn as sns\n",
    "%matplotlib inline\n",
    "\n",
    "# Opening Datasets\n",
    "train_data = pd.read_csv('data/train.csv')\n",
    "test_data = pd.read_csv('data/test.csv')"
   ]
  },
  {
   "cell_type": "code",
   "execution_count": 3,
   "metadata": {},
   "outputs": [
    {
     "data": {
      "text/html": [
       "<div>\n",
       "<style scoped>\n",
       "    .dataframe tbody tr th:only-of-type {\n",
       "        vertical-align: middle;\n",
       "    }\n",
       "\n",
       "    .dataframe tbody tr th {\n",
       "        vertical-align: top;\n",
       "    }\n",
       "\n",
       "    .dataframe thead th {\n",
       "        text-align: right;\n",
       "    }\n",
       "</style>\n",
       "<table border=\"1\" class=\"dataframe\">\n",
       "  <thead>\n",
       "    <tr style=\"text-align: right;\">\n",
       "      <th></th>\n",
       "      <th>PassengerId</th>\n",
       "      <th>Survived</th>\n",
       "      <th>Pclass</th>\n",
       "      <th>Name</th>\n",
       "      <th>Sex</th>\n",
       "      <th>Age</th>\n",
       "      <th>SibSp</th>\n",
       "      <th>Parch</th>\n",
       "      <th>Ticket</th>\n",
       "      <th>Fare</th>\n",
       "      <th>Cabin</th>\n",
       "      <th>Embarked</th>\n",
       "    </tr>\n",
       "  </thead>\n",
       "  <tbody>\n",
       "    <tr>\n",
       "      <th>0</th>\n",
       "      <td>1</td>\n",
       "      <td>0</td>\n",
       "      <td>3</td>\n",
       "      <td>Braund, Mr. Owen Harris</td>\n",
       "      <td>male</td>\n",
       "      <td>22.0</td>\n",
       "      <td>1</td>\n",
       "      <td>0</td>\n",
       "      <td>A/5 21171</td>\n",
       "      <td>7.2500</td>\n",
       "      <td>NaN</td>\n",
       "      <td>S</td>\n",
       "    </tr>\n",
       "    <tr>\n",
       "      <th>1</th>\n",
       "      <td>2</td>\n",
       "      <td>1</td>\n",
       "      <td>1</td>\n",
       "      <td>Cumings, Mrs. John Bradley (Florence Briggs Th...</td>\n",
       "      <td>female</td>\n",
       "      <td>38.0</td>\n",
       "      <td>1</td>\n",
       "      <td>0</td>\n",
       "      <td>PC 17599</td>\n",
       "      <td>71.2833</td>\n",
       "      <td>C85</td>\n",
       "      <td>C</td>\n",
       "    </tr>\n",
       "    <tr>\n",
       "      <th>2</th>\n",
       "      <td>3</td>\n",
       "      <td>1</td>\n",
       "      <td>3</td>\n",
       "      <td>Heikkinen, Miss. Laina</td>\n",
       "      <td>female</td>\n",
       "      <td>26.0</td>\n",
       "      <td>0</td>\n",
       "      <td>0</td>\n",
       "      <td>STON/O2. 3101282</td>\n",
       "      <td>7.9250</td>\n",
       "      <td>NaN</td>\n",
       "      <td>S</td>\n",
       "    </tr>\n",
       "    <tr>\n",
       "      <th>3</th>\n",
       "      <td>4</td>\n",
       "      <td>1</td>\n",
       "      <td>1</td>\n",
       "      <td>Futrelle, Mrs. Jacques Heath (Lily May Peel)</td>\n",
       "      <td>female</td>\n",
       "      <td>35.0</td>\n",
       "      <td>1</td>\n",
       "      <td>0</td>\n",
       "      <td>113803</td>\n",
       "      <td>53.1000</td>\n",
       "      <td>C123</td>\n",
       "      <td>S</td>\n",
       "    </tr>\n",
       "    <tr>\n",
       "      <th>4</th>\n",
       "      <td>5</td>\n",
       "      <td>0</td>\n",
       "      <td>3</td>\n",
       "      <td>Allen, Mr. William Henry</td>\n",
       "      <td>male</td>\n",
       "      <td>35.0</td>\n",
       "      <td>0</td>\n",
       "      <td>0</td>\n",
       "      <td>373450</td>\n",
       "      <td>8.0500</td>\n",
       "      <td>NaN</td>\n",
       "      <td>S</td>\n",
       "    </tr>\n",
       "  </tbody>\n",
       "</table>\n",
       "</div>"
      ],
      "text/plain": [
       "   PassengerId  Survived  Pclass  \\\n",
       "0            1         0       3   \n",
       "1            2         1       1   \n",
       "2            3         1       3   \n",
       "3            4         1       1   \n",
       "4            5         0       3   \n",
       "\n",
       "                                                Name     Sex   Age  SibSp  \\\n",
       "0                            Braund, Mr. Owen Harris    male  22.0      1   \n",
       "1  Cumings, Mrs. John Bradley (Florence Briggs Th...  female  38.0      1   \n",
       "2                             Heikkinen, Miss. Laina  female  26.0      0   \n",
       "3       Futrelle, Mrs. Jacques Heath (Lily May Peel)  female  35.0      1   \n",
       "4                           Allen, Mr. William Henry    male  35.0      0   \n",
       "\n",
       "   Parch            Ticket     Fare Cabin Embarked  \n",
       "0      0         A/5 21171   7.2500   NaN        S  \n",
       "1      0          PC 17599  71.2833   C85        C  \n",
       "2      0  STON/O2. 3101282   7.9250   NaN        S  \n",
       "3      0            113803  53.1000  C123        S  \n",
       "4      0            373450   8.0500   NaN        S  "
      ]
     },
     "execution_count": 3,
     "metadata": {},
     "output_type": "execute_result"
    }
   ],
   "source": [
    "# Mostramos el conjunto de datos de entrenamiento\n",
    "train_data.head()"
   ]
  },
  {
   "cell_type": "code",
   "execution_count": 4,
   "metadata": {},
   "outputs": [
    {
     "data": {
      "text/html": [
       "<div>\n",
       "<style scoped>\n",
       "    .dataframe tbody tr th:only-of-type {\n",
       "        vertical-align: middle;\n",
       "    }\n",
       "\n",
       "    .dataframe tbody tr th {\n",
       "        vertical-align: top;\n",
       "    }\n",
       "\n",
       "    .dataframe thead th {\n",
       "        text-align: right;\n",
       "    }\n",
       "</style>\n",
       "<table border=\"1\" class=\"dataframe\">\n",
       "  <thead>\n",
       "    <tr style=\"text-align: right;\">\n",
       "      <th></th>\n",
       "      <th>PassengerId</th>\n",
       "      <th>Pclass</th>\n",
       "      <th>Name</th>\n",
       "      <th>Sex</th>\n",
       "      <th>Age</th>\n",
       "      <th>SibSp</th>\n",
       "      <th>Parch</th>\n",
       "      <th>Ticket</th>\n",
       "      <th>Fare</th>\n",
       "      <th>Cabin</th>\n",
       "      <th>Embarked</th>\n",
       "    </tr>\n",
       "  </thead>\n",
       "  <tbody>\n",
       "    <tr>\n",
       "      <th>0</th>\n",
       "      <td>892</td>\n",
       "      <td>3</td>\n",
       "      <td>Kelly, Mr. James</td>\n",
       "      <td>male</td>\n",
       "      <td>34.5</td>\n",
       "      <td>0</td>\n",
       "      <td>0</td>\n",
       "      <td>330911</td>\n",
       "      <td>7.8292</td>\n",
       "      <td>NaN</td>\n",
       "      <td>Q</td>\n",
       "    </tr>\n",
       "    <tr>\n",
       "      <th>1</th>\n",
       "      <td>893</td>\n",
       "      <td>3</td>\n",
       "      <td>Wilkes, Mrs. James (Ellen Needs)</td>\n",
       "      <td>female</td>\n",
       "      <td>47.0</td>\n",
       "      <td>1</td>\n",
       "      <td>0</td>\n",
       "      <td>363272</td>\n",
       "      <td>7.0000</td>\n",
       "      <td>NaN</td>\n",
       "      <td>S</td>\n",
       "    </tr>\n",
       "    <tr>\n",
       "      <th>2</th>\n",
       "      <td>894</td>\n",
       "      <td>2</td>\n",
       "      <td>Myles, Mr. Thomas Francis</td>\n",
       "      <td>male</td>\n",
       "      <td>62.0</td>\n",
       "      <td>0</td>\n",
       "      <td>0</td>\n",
       "      <td>240276</td>\n",
       "      <td>9.6875</td>\n",
       "      <td>NaN</td>\n",
       "      <td>Q</td>\n",
       "    </tr>\n",
       "    <tr>\n",
       "      <th>3</th>\n",
       "      <td>895</td>\n",
       "      <td>3</td>\n",
       "      <td>Wirz, Mr. Albert</td>\n",
       "      <td>male</td>\n",
       "      <td>27.0</td>\n",
       "      <td>0</td>\n",
       "      <td>0</td>\n",
       "      <td>315154</td>\n",
       "      <td>8.6625</td>\n",
       "      <td>NaN</td>\n",
       "      <td>S</td>\n",
       "    </tr>\n",
       "    <tr>\n",
       "      <th>4</th>\n",
       "      <td>896</td>\n",
       "      <td>3</td>\n",
       "      <td>Hirvonen, Mrs. Alexander (Helga E Lindqvist)</td>\n",
       "      <td>female</td>\n",
       "      <td>22.0</td>\n",
       "      <td>1</td>\n",
       "      <td>1</td>\n",
       "      <td>3101298</td>\n",
       "      <td>12.2875</td>\n",
       "      <td>NaN</td>\n",
       "      <td>S</td>\n",
       "    </tr>\n",
       "  </tbody>\n",
       "</table>\n",
       "</div>"
      ],
      "text/plain": [
       "   PassengerId  Pclass                                          Name     Sex  \\\n",
       "0          892       3                              Kelly, Mr. James    male   \n",
       "1          893       3              Wilkes, Mrs. James (Ellen Needs)  female   \n",
       "2          894       2                     Myles, Mr. Thomas Francis    male   \n",
       "3          895       3                              Wirz, Mr. Albert    male   \n",
       "4          896       3  Hirvonen, Mrs. Alexander (Helga E Lindqvist)  female   \n",
       "\n",
       "    Age  SibSp  Parch   Ticket     Fare Cabin Embarked  \n",
       "0  34.5      0      0   330911   7.8292   NaN        Q  \n",
       "1  47.0      1      0   363272   7.0000   NaN        S  \n",
       "2  62.0      0      0   240276   9.6875   NaN        Q  \n",
       "3  27.0      0      0   315154   8.6625   NaN        S  \n",
       "4  22.0      1      1  3101298  12.2875   NaN        S  "
      ]
     },
     "execution_count": 4,
     "metadata": {},
     "output_type": "execute_result"
    }
   ],
   "source": [
    "# Mostramos el conjunto de datos de prueba\n",
    "test_data.head()"
   ]
  },
  {
   "cell_type": "markdown",
   "metadata": {},
   "source": [
    "### Diccionario de Datos\n",
    "\n",
    "- PassengerId: Identificador de Pasajero\n",
    "- Survived: 0 = No, 1 = Sí\n",
    "- Pclass: Clase del Pasaje 1 = 1st, 2 = 2nd, 3 = 3rd\n",
    "- Name: Nombre del Pasajero\n",
    "- Sex: Sexo del Pasajero\n",
    "- Age: Edad del Pasajero\n",
    "- SibSp: # de hermanos / esposas abordo del Titanic\n",
    "- Parch: # de padres / hijos abordo del Titanic\n",
    "- Ticket: Código de Pasaje\n",
    "- Fare: Tarifa de Pasaje\n",
    "- Cabin: Número de Cabina\n",
    "- Embarked: Puerto de Embarque - C = Cherbourg, Q = Queenstown, S = Southampton"
   ]
  },
  {
   "cell_type": "code",
   "execution_count": 5,
   "metadata": {},
   "outputs": [
    {
     "name": "stdout",
     "output_type": "stream",
     "text": [
      "El conjunto de datos de entrenamiento (training) posee  891  filas y  12  columnas.\n",
      "El conjunto de datos de prueba (testing) posee  418  filas y  11  columnas.\n"
     ]
    }
   ],
   "source": [
    "# Forma del conjunto de entrenamiento\n",
    "print('El conjunto de datos de entrenamiento (training) posee ', \n",
    "      train_data.shape[0], ' filas y ', train_data.shape[1], \n",
    "      ' columnas.')\n",
    "# Forma del conjunto de pruebas\n",
    "print('El conjunto de datos de prueba (testing) posee ', \n",
    "      test_data.shape[0], ' filas y ', test_data.shape[1], \n",
    "      ' columnas.')"
   ]
  },
  {
   "cell_type": "markdown",
   "metadata": {},
   "source": [
    "### Obs.\n",
    "\n",
    "El conjunto de datos de entrenamiento posee un atributo más que el conjunto de datos de testing, que viene siendo la variable de decisión (sobrevive o no sobrevive). Además el conjunto de datos de entrenamiento posee más observaciones que el conjunto de datos de testing (891 contra 418).\n",
    "\n",
    "Ahora se procede a comparar los conjuntos de datos de entrenamiento y prueba para ver si sus variables numéricas poseen características númericas similares (como por ejemplo media, varianza, cuartiles, etc.)"
   ]
  },
  {
   "cell_type": "code",
   "execution_count": 6,
   "metadata": {},
   "outputs": [
    {
     "data": {
      "text/html": [
       "<div>\n",
       "<style scoped>\n",
       "    .dataframe tbody tr th:only-of-type {\n",
       "        vertical-align: middle;\n",
       "    }\n",
       "\n",
       "    .dataframe tbody tr th {\n",
       "        vertical-align: top;\n",
       "    }\n",
       "\n",
       "    .dataframe thead th {\n",
       "        text-align: right;\n",
       "    }\n",
       "</style>\n",
       "<table border=\"1\" class=\"dataframe\">\n",
       "  <thead>\n",
       "    <tr style=\"text-align: right;\">\n",
       "      <th></th>\n",
       "      <th>Pclass</th>\n",
       "      <th>Age</th>\n",
       "      <th>SibSp</th>\n",
       "      <th>Parch</th>\n",
       "      <th>Fare</th>\n",
       "    </tr>\n",
       "  </thead>\n",
       "  <tbody>\n",
       "    <tr>\n",
       "      <th>count</th>\n",
       "      <td>891.000000</td>\n",
       "      <td>714.000000</td>\n",
       "      <td>891.000000</td>\n",
       "      <td>891.000000</td>\n",
       "      <td>891.000000</td>\n",
       "    </tr>\n",
       "    <tr>\n",
       "      <th>mean</th>\n",
       "      <td>2.308642</td>\n",
       "      <td>29.699118</td>\n",
       "      <td>0.523008</td>\n",
       "      <td>0.381594</td>\n",
       "      <td>32.204208</td>\n",
       "    </tr>\n",
       "    <tr>\n",
       "      <th>std</th>\n",
       "      <td>0.836071</td>\n",
       "      <td>14.526497</td>\n",
       "      <td>1.102743</td>\n",
       "      <td>0.806057</td>\n",
       "      <td>49.693429</td>\n",
       "    </tr>\n",
       "    <tr>\n",
       "      <th>min</th>\n",
       "      <td>1.000000</td>\n",
       "      <td>0.420000</td>\n",
       "      <td>0.000000</td>\n",
       "      <td>0.000000</td>\n",
       "      <td>0.000000</td>\n",
       "    </tr>\n",
       "    <tr>\n",
       "      <th>25%</th>\n",
       "      <td>2.000000</td>\n",
       "      <td>20.125000</td>\n",
       "      <td>0.000000</td>\n",
       "      <td>0.000000</td>\n",
       "      <td>7.910400</td>\n",
       "    </tr>\n",
       "    <tr>\n",
       "      <th>50%</th>\n",
       "      <td>3.000000</td>\n",
       "      <td>28.000000</td>\n",
       "      <td>0.000000</td>\n",
       "      <td>0.000000</td>\n",
       "      <td>14.454200</td>\n",
       "    </tr>\n",
       "    <tr>\n",
       "      <th>75%</th>\n",
       "      <td>3.000000</td>\n",
       "      <td>38.000000</td>\n",
       "      <td>1.000000</td>\n",
       "      <td>0.000000</td>\n",
       "      <td>31.000000</td>\n",
       "    </tr>\n",
       "    <tr>\n",
       "      <th>max</th>\n",
       "      <td>3.000000</td>\n",
       "      <td>80.000000</td>\n",
       "      <td>8.000000</td>\n",
       "      <td>6.000000</td>\n",
       "      <td>512.329200</td>\n",
       "    </tr>\n",
       "  </tbody>\n",
       "</table>\n",
       "</div>"
      ],
      "text/plain": [
       "           Pclass         Age       SibSp       Parch        Fare\n",
       "count  891.000000  714.000000  891.000000  891.000000  891.000000\n",
       "mean     2.308642   29.699118    0.523008    0.381594   32.204208\n",
       "std      0.836071   14.526497    1.102743    0.806057   49.693429\n",
       "min      1.000000    0.420000    0.000000    0.000000    0.000000\n",
       "25%      2.000000   20.125000    0.000000    0.000000    7.910400\n",
       "50%      3.000000   28.000000    0.000000    0.000000   14.454200\n",
       "75%      3.000000   38.000000    1.000000    0.000000   31.000000\n",
       "max      3.000000   80.000000    8.000000    6.000000  512.329200"
      ]
     },
     "execution_count": 6,
     "metadata": {},
     "output_type": "execute_result"
    }
   ],
   "source": [
    "# Descripción general de conjunto de entrenamiento\n",
    "train_data[['Pclass','Age','SibSp','Parch','Fare']].describe()"
   ]
  },
  {
   "cell_type": "code",
   "execution_count": 7,
   "metadata": {},
   "outputs": [
    {
     "data": {
      "text/html": [
       "<div>\n",
       "<style scoped>\n",
       "    .dataframe tbody tr th:only-of-type {\n",
       "        vertical-align: middle;\n",
       "    }\n",
       "\n",
       "    .dataframe tbody tr th {\n",
       "        vertical-align: top;\n",
       "    }\n",
       "\n",
       "    .dataframe thead th {\n",
       "        text-align: right;\n",
       "    }\n",
       "</style>\n",
       "<table border=\"1\" class=\"dataframe\">\n",
       "  <thead>\n",
       "    <tr style=\"text-align: right;\">\n",
       "      <th></th>\n",
       "      <th>Pclass</th>\n",
       "      <th>Age</th>\n",
       "      <th>SibSp</th>\n",
       "      <th>Parch</th>\n",
       "      <th>Fare</th>\n",
       "    </tr>\n",
       "  </thead>\n",
       "  <tbody>\n",
       "    <tr>\n",
       "      <th>count</th>\n",
       "      <td>418.000000</td>\n",
       "      <td>332.000000</td>\n",
       "      <td>418.000000</td>\n",
       "      <td>418.000000</td>\n",
       "      <td>417.000000</td>\n",
       "    </tr>\n",
       "    <tr>\n",
       "      <th>mean</th>\n",
       "      <td>2.265550</td>\n",
       "      <td>30.272590</td>\n",
       "      <td>0.447368</td>\n",
       "      <td>0.392344</td>\n",
       "      <td>35.627188</td>\n",
       "    </tr>\n",
       "    <tr>\n",
       "      <th>std</th>\n",
       "      <td>0.841838</td>\n",
       "      <td>14.181209</td>\n",
       "      <td>0.896760</td>\n",
       "      <td>0.981429</td>\n",
       "      <td>55.907576</td>\n",
       "    </tr>\n",
       "    <tr>\n",
       "      <th>min</th>\n",
       "      <td>1.000000</td>\n",
       "      <td>0.170000</td>\n",
       "      <td>0.000000</td>\n",
       "      <td>0.000000</td>\n",
       "      <td>0.000000</td>\n",
       "    </tr>\n",
       "    <tr>\n",
       "      <th>25%</th>\n",
       "      <td>1.000000</td>\n",
       "      <td>21.000000</td>\n",
       "      <td>0.000000</td>\n",
       "      <td>0.000000</td>\n",
       "      <td>7.895800</td>\n",
       "    </tr>\n",
       "    <tr>\n",
       "      <th>50%</th>\n",
       "      <td>3.000000</td>\n",
       "      <td>27.000000</td>\n",
       "      <td>0.000000</td>\n",
       "      <td>0.000000</td>\n",
       "      <td>14.454200</td>\n",
       "    </tr>\n",
       "    <tr>\n",
       "      <th>75%</th>\n",
       "      <td>3.000000</td>\n",
       "      <td>39.000000</td>\n",
       "      <td>1.000000</td>\n",
       "      <td>0.000000</td>\n",
       "      <td>31.500000</td>\n",
       "    </tr>\n",
       "    <tr>\n",
       "      <th>max</th>\n",
       "      <td>3.000000</td>\n",
       "      <td>76.000000</td>\n",
       "      <td>8.000000</td>\n",
       "      <td>9.000000</td>\n",
       "      <td>512.329200</td>\n",
       "    </tr>\n",
       "  </tbody>\n",
       "</table>\n",
       "</div>"
      ],
      "text/plain": [
       "           Pclass         Age       SibSp       Parch        Fare\n",
       "count  418.000000  332.000000  418.000000  418.000000  417.000000\n",
       "mean     2.265550   30.272590    0.447368    0.392344   35.627188\n",
       "std      0.841838   14.181209    0.896760    0.981429   55.907576\n",
       "min      1.000000    0.170000    0.000000    0.000000    0.000000\n",
       "25%      1.000000   21.000000    0.000000    0.000000    7.895800\n",
       "50%      3.000000   27.000000    0.000000    0.000000   14.454200\n",
       "75%      3.000000   39.000000    1.000000    0.000000   31.500000\n",
       "max      3.000000   76.000000    8.000000    9.000000  512.329200"
      ]
     },
     "execution_count": 7,
     "metadata": {},
     "output_type": "execute_result"
    }
   ],
   "source": [
    "# Descripción general de conjunto de pruebas\n",
    "test_data[['Pclass','Age','SibSp','Parch','Fare']].describe()"
   ]
  },
  {
   "cell_type": "markdown",
   "metadata": {},
   "source": [
    "### Obs.\n",
    "\n",
    "Ambos conjuntos de datos no poseen grandes diferencias en variables numéricas, por ende, se puede trabajar co ambos utilizando criterios similares.\n",
    "\n",
    "Ahora se procede a chequear si existen valores nulos dentro del conjunto de entrenamiento y prueba."
   ]
  },
  {
   "cell_type": "code",
   "execution_count": 8,
   "metadata": {},
   "outputs": [
    {
     "data": {
      "text/plain": [
       "PassengerId      0\n",
       "Survived         0\n",
       "Pclass           0\n",
       "Name             0\n",
       "Sex              0\n",
       "Age            177\n",
       "SibSp            0\n",
       "Parch            0\n",
       "Ticket           0\n",
       "Fare             0\n",
       "Cabin          687\n",
       "Embarked         2\n",
       "dtype: int64"
      ]
     },
     "execution_count": 8,
     "metadata": {},
     "output_type": "execute_result"
    }
   ],
   "source": [
    "train_data.isnull().sum()"
   ]
  },
  {
   "cell_type": "code",
   "execution_count": 9,
   "metadata": {},
   "outputs": [
    {
     "data": {
      "text/plain": [
       "PassengerId      0\n",
       "Pclass           0\n",
       "Name             0\n",
       "Sex              0\n",
       "Age             86\n",
       "SibSp            0\n",
       "Parch            0\n",
       "Ticket           0\n",
       "Fare             1\n",
       "Cabin          327\n",
       "Embarked         0\n",
       "dtype: int64"
      ]
     },
     "execution_count": 9,
     "metadata": {},
     "output_type": "execute_result"
    }
   ],
   "source": [
    "test_data.isnull().sum()"
   ]
  },
  {
   "cell_type": "markdown",
   "metadata": {},
   "source": [
    "### Obs\n",
    "En el conjunto de entrenamiento se tiene como NaN's:\n",
    "- 177 Registros con el atributo \"Age\"\n",
    "- 687 Registros con el atributo \"Cabin\"\n",
    "- 2 Registros con el atributo \"Embarked\"\n",
    "\n",
    "En el conjunto de pruebas se tiene como NaN's:\n",
    "- 86 Registros con el atributo \"Age\"\n",
    "- 327 Registros con el atributo \"Cabin\"\n",
    "- 1 Registros con el atributo \"Fare\"\n",
    "\n",
    "Se estima que las variables de edad y de tarifa pueden ser estimadas a partir de otras variables en el modelo. Por esta razón no se tocarán de momento.\n",
    "\n",
    "De no ser así, se asumirá la mediana como dato para sustitución.\n",
    "\n",
    "Ahora procederemos a ver si existen datos atípicos."
   ]
  },
  {
   "cell_type": "code",
   "execution_count": 10,
   "metadata": {},
   "outputs": [
    {
     "data": {
      "image/png": "[encoded data removed]",
      "text/plain": [
       "<Figure size 432x288 with 1 Axes>"
      ]
     },
     "metadata": {
      "needs_background": "light"
     },
     "output_type": "display_data"
    }
   ],
   "source": [
    "sns.boxplot(x=\"Survived\", y=\"Age\",\n",
    "            palette=[\"r\", \"b\"], data=train_data)\n",
    "\n",
    "plt.show()"
   ]
  },
  {
   "cell_type": "code",
   "execution_count": 11,
   "metadata": {},
   "outputs": [
    {
     "data": {
      "image/png": "[encoded data removed]",
      "text/plain": [
       "<Figure size 432x288 with 1 Axes>"
      ]
     },
     "metadata": {
      "needs_background": "light"
     },
     "output_type": "display_data"
    }
   ],
   "source": [
    "sns.boxplot(x=\"Survived\", y=\"Fare\",\n",
    "            palette=[\"r\", \"b\"], data=train_data)\n",
    "\n",
    "plt.show()"
   ]
  },
  {
   "cell_type": "markdown",
   "metadata": {},
   "source": [
    "En conclusión no existen diferencias significativas en los valores de estas variables como para poder descartarlas."
   ]
  },
  {
   "cell_type": "markdown",
   "metadata": {},
   "source": [
    "## Parte 2: Análisis de Exploratorio de Datos\n",
    "\n",
    "En esta parte se hace un análisis exploratorio de datos para determinar: \n",
    "\n",
    "- ¿Existe alguna relación dichas variables?\n",
    "- ¿Qué atributos del conjunto de entrenamiento tienen una mayor implicancia sobre la variable final de decisión?"
   ]
  },
  {
   "cell_type": "code",
   "execution_count": 12,
   "metadata": {},
   "outputs": [
    {
     "data": {
      "text/html": [
       "<div>\n",
       "<style scoped>\n",
       "    .dataframe tbody tr th:only-of-type {\n",
       "        vertical-align: middle;\n",
       "    }\n",
       "\n",
       "    .dataframe tbody tr th {\n",
       "        vertical-align: top;\n",
       "    }\n",
       "\n",
       "    .dataframe thead th {\n",
       "        text-align: right;\n",
       "    }\n",
       "</style>\n",
       "<table border=\"1\" class=\"dataframe\">\n",
       "  <thead>\n",
       "    <tr style=\"text-align: right;\">\n",
       "      <th></th>\n",
       "      <th>PassengerId</th>\n",
       "      <th>Survived</th>\n",
       "      <th>Pclass</th>\n",
       "      <th>Age</th>\n",
       "      <th>SibSp</th>\n",
       "      <th>Parch</th>\n",
       "      <th>Fare</th>\n",
       "    </tr>\n",
       "  </thead>\n",
       "  <tbody>\n",
       "    <tr>\n",
       "      <th>PassengerId</th>\n",
       "      <td>1.000000</td>\n",
       "      <td>-0.005007</td>\n",
       "      <td>-0.035144</td>\n",
       "      <td>0.036847</td>\n",
       "      <td>-0.057527</td>\n",
       "      <td>-0.001652</td>\n",
       "      <td>0.012658</td>\n",
       "    </tr>\n",
       "    <tr>\n",
       "      <th>Survived</th>\n",
       "      <td>-0.005007</td>\n",
       "      <td>1.000000</td>\n",
       "      <td>-0.338481</td>\n",
       "      <td>-0.077221</td>\n",
       "      <td>-0.035322</td>\n",
       "      <td>0.081629</td>\n",
       "      <td>0.257307</td>\n",
       "    </tr>\n",
       "    <tr>\n",
       "      <th>Pclass</th>\n",
       "      <td>-0.035144</td>\n",
       "      <td>-0.338481</td>\n",
       "      <td>1.000000</td>\n",
       "      <td>-0.369226</td>\n",
       "      <td>0.083081</td>\n",
       "      <td>0.018443</td>\n",
       "      <td>-0.549500</td>\n",
       "    </tr>\n",
       "    <tr>\n",
       "      <th>Age</th>\n",
       "      <td>0.036847</td>\n",
       "      <td>-0.077221</td>\n",
       "      <td>-0.369226</td>\n",
       "      <td>1.000000</td>\n",
       "      <td>-0.308247</td>\n",
       "      <td>-0.189119</td>\n",
       "      <td>0.096067</td>\n",
       "    </tr>\n",
       "    <tr>\n",
       "      <th>SibSp</th>\n",
       "      <td>-0.057527</td>\n",
       "      <td>-0.035322</td>\n",
       "      <td>0.083081</td>\n",
       "      <td>-0.308247</td>\n",
       "      <td>1.000000</td>\n",
       "      <td>0.414838</td>\n",
       "      <td>0.159651</td>\n",
       "    </tr>\n",
       "    <tr>\n",
       "      <th>Parch</th>\n",
       "      <td>-0.001652</td>\n",
       "      <td>0.081629</td>\n",
       "      <td>0.018443</td>\n",
       "      <td>-0.189119</td>\n",
       "      <td>0.414838</td>\n",
       "      <td>1.000000</td>\n",
       "      <td>0.216225</td>\n",
       "    </tr>\n",
       "    <tr>\n",
       "      <th>Fare</th>\n",
       "      <td>0.012658</td>\n",
       "      <td>0.257307</td>\n",
       "      <td>-0.549500</td>\n",
       "      <td>0.096067</td>\n",
       "      <td>0.159651</td>\n",
       "      <td>0.216225</td>\n",
       "      <td>1.000000</td>\n",
       "    </tr>\n",
       "  </tbody>\n",
       "</table>\n",
       "</div>"
      ],
      "text/plain": [
       "             PassengerId  Survived    Pclass       Age     SibSp     Parch  \\\n",
       "PassengerId     1.000000 -0.005007 -0.035144  0.036847 -0.057527 -0.001652   \n",
       "Survived       -0.005007  1.000000 -0.338481 -0.077221 -0.035322  0.081629   \n",
       "Pclass         -0.035144 -0.338481  1.000000 -0.369226  0.083081  0.018443   \n",
       "Age             0.036847 -0.077221 -0.369226  1.000000 -0.308247 -0.189119   \n",
       "SibSp          -0.057527 -0.035322  0.083081 -0.308247  1.000000  0.414838   \n",
       "Parch          -0.001652  0.081629  0.018443 -0.189119  0.414838  1.000000   \n",
       "Fare            0.012658  0.257307 -0.549500  0.096067  0.159651  0.216225   \n",
       "\n",
       "                 Fare  \n",
       "PassengerId  0.012658  \n",
       "Survived     0.257307  \n",
       "Pclass      -0.549500  \n",
       "Age          0.096067  \n",
       "SibSp        0.159651  \n",
       "Parch        0.216225  \n",
       "Fare         1.000000  "
      ]
     },
     "execution_count": 12,
     "metadata": {},
     "output_type": "execute_result"
    }
   ],
   "source": [
    "import seaborn as sns\n",
    "corr = train_data.corr()\n",
    "corr"
   ]
  },
  {
   "cell_type": "code",
   "execution_count": 13,
   "metadata": {},
   "outputs": [
    {
     "data": {
      "image/png": "[encoded data removed]",
      "text/plain": [
       "<Figure size 432x288 with 2 Axes>"
      ]
     },
     "metadata": {
      "needs_background": "light"
     },
     "output_type": "display_data"
    }
   ],
   "source": [
    "cmap = sns.diverging_palette(220, 10, as_cmap=True)\n",
    "sns.heatmap(corr, \n",
    "            xticklabels=corr.columns.values,\n",
    "            yticklabels=corr.columns.values,\n",
    "            cmap=cmap)\n",
    "plt.show()"
   ]
  },
  {
   "cell_type": "code",
   "execution_count": 14,
   "metadata": {},
   "outputs": [],
   "source": [
    "# Se define una función para generar gráficos de barra entre algunos elementos\n",
    "# de la data.\n",
    "def bar_chart(feature):\n",
    "    survived = train_data[train_data['Survived']==1][feature].value_counts()\n",
    "    dead = train_data[train_data['Survived']==0][feature].value_counts()\n",
    "    df = pd.DataFrame([survived,dead])\n",
    "    df.index = ['Survived','Dead']\n",
    "    df.plot(kind='bar',stacked=True, figsize=(10,5))"
   ]
  },
  {
   "cell_type": "code",
   "execution_count": 15,
   "metadata": {},
   "outputs": [
    {
     "data": {
      "image/png": "[encoded data removed]",
      "text/plain": [
       "<Figure size 720x360 with 1 Axes>"
      ]
     },
     "metadata": {
      "needs_background": "light"
     },
     "output_type": "display_data"
    }
   ],
   "source": [
    "bar_chart('Sex')"
   ]
  },
  {
   "cell_type": "code",
   "execution_count": 34,
   "metadata": {},
   "outputs": [
    {
     "name": "stdout",
     "output_type": "stream",
     "text": [
      "% mujeres que sobrevivieron vs tamaño muestra:  26.15039281705948 %\n",
      "% hombres que sobrevivieron vs tamaño muestra:  12.2334455667789 %\n",
      "\n",
      "% mujeres que sobrevivieron vs mujeres totales:  74.20382165605095 %\n",
      "% hombres que sobrevivieron vs hombres totales:  18.890814558058924 %\n"
     ]
    }
   ],
   "source": [
    "qty_sex = train_data['Sex'].value_counts()\n",
    "qty_sex_survived = train_data[train_data['Survived']==1]['Sex'].value_counts()\n",
    "\n",
    "# Porcentaje de Sobrevivientes por Género vs Totales\n",
    "print('% mujeres que sobrevivieron vs tamaño muestra: ',\n",
    "      qty_sex_survived['female']/train_data.shape[0] * 100, '%')\n",
    "print('% hombres que sobrevivieron vs tamaño muestra: ',\n",
    "      qty_sex_survived['male']/train_data.shape[0] * 100, '%')\n",
    "\n",
    "print(\"\")\n",
    "\n",
    "# Porcentaje de Sobrevivientes por Género vs Género\n",
    "print('% mujeres que sobrevivieron vs mujeres totales: ',\n",
    "      qty_sex_survived['female']/qty_sex['female'] * 100, '%')\n",
    "print('% hombres que sobrevivieron vs hombres totales: ',\n",
    "      qty_sex_survived['male']/qty_sex['male'] * 100, '%')"
   ]
  },
  {
   "cell_type": "markdown",
   "metadata": {},
   "source": [
    "### Obs.\n",
    "Se puede concluir que el sexo del tripulante es una variable que impacta en la probabilidad de supervivencia. El tripulante tiene mayor probabilidad de sobrevivir si es mujer y menor probabilidad de sobrevivir si es hombre."
   ]
  },
  {
   "cell_type": "code",
   "execution_count": 35,
   "metadata": {},
   "outputs": [
    {
     "data": {
      "image/png": "[encoded data removed]",
      "text/plain": [
       "<Figure size 720x360 with 1 Axes>"
      ]
     },
     "metadata": {
      "needs_background": "light"
     },
     "output_type": "display_data"
    }
   ],
   "source": [
    "bar_chart('Pclass')"
   ]
  },
  {
   "cell_type": "code",
   "execution_count": 36,
   "metadata": {},
   "outputs": [
    {
     "name": "stdout",
     "output_type": "stream",
     "text": [
      "% class 1 que sobrevivieron vs tamaño muestra:  15.26374859708193 %\n",
      "% class 2 que sobrevivieron vs tamaño muestra:  9.764309764309765 %\n",
      "% class 3 que sobrevivieron vs tamaño muestra:  13.35578002244669 %\n",
      "\n",
      "% class 1 que sobrevivieron vs class 1 totales:  62.96296296296296 %\n",
      "% class 2 que sobrevivieron vs class 2 totales:  47.28260869565217 %\n",
      "% class 3 que sobrevivieron vs class 3 totales:  24.236252545824847 %\n"
     ]
    }
   ],
   "source": [
    "qty_pclass = train_data['Pclass'].value_counts()\n",
    "qty_pclass_survived = train_data[train_data['Survived']==1]['Pclass'].value_counts()\n",
    "\n",
    "# Porcentaje de Sobrevivientes por Género vs Totales\n",
    "print('% class 1 que sobrevivieron vs tamaño muestra: ',\n",
    "      qty_pclass_survived[1]/train_data.shape[0] * 100, '%')\n",
    "print('% class 2 que sobrevivieron vs tamaño muestra: ',\n",
    "      qty_pclass_survived[2]/train_data.shape[0] * 100, '%')\n",
    "print('% class 3 que sobrevivieron vs tamaño muestra: ',\n",
    "      qty_pclass_survived[3]/train_data.shape[0] * 100, '%')\n",
    "\n",
    "print(\"\")\n",
    "\n",
    "# Porcentaje de Sobrevivientes por Género vs Género\n",
    "print('% class 1 que sobrevivieron vs class 1 totales: ',\n",
    "      qty_pclass_survived[1]/qty_pclass[1] * 100, '%')\n",
    "print('% class 2 que sobrevivieron vs class 2 totales: ',\n",
    "      qty_pclass_survived[2]/qty_pclass[2] * 100, '%')\n",
    "print('% class 3 que sobrevivieron vs class 3 totales: ',\n",
    "      qty_pclass_survived[3]/qty_pclass[3] * 100, '%')"
   ]
  },
  {
   "cell_type": "markdown",
   "metadata": {},
   "source": [
    "### Obs.\n",
    "Se puede concluir que la clase del tripulante es una variable que impacta en la probabilidad de supervivencia. Mientras más acomodada fue la clase en Titanic, mayor probabilidad tenía el tripulante de sobrevivir al desastre. Esto se puede deber a que la cantidad de flotadores y barcos, estaban reservados para las personas que compraban pasajes de primera clase, mientras que los que compraban pasajes de tercera clase, no poseían estos privilegios."
   ]
  },
  {
   "cell_type": "code",
   "execution_count": 65,
   "metadata": {},
   "outputs": [
    {
     "data": {
      "image/png": "[encoded data removed]",
      "text/plain": [
       "<Figure size 720x360 with 1 Axes>"
      ]
     },
     "metadata": {
      "needs_background": "light"
     },
     "output_type": "display_data"
    }
   ],
   "source": [
    "bar_chart('SibSp')"
   ]
  },
  {
   "cell_type": "code",
   "execution_count": 57,
   "metadata": {},
   "outputs": [
    {
     "name": "stdout",
     "output_type": "stream",
     "text": [
      "% personas con 0 esposa/hermanos que sobrevivieron vs tamaño muestra:  23.57 %\n",
      "% personas con 1 esposa/hermanos que sobrevivieron vs tamaño muestra:  12.57 %\n",
      "% personas con 2 esposa/hermanos que sobrevivieron vs tamaño muestra:  1.46 %\n",
      "% personas con 3 esposa/hermanos que sobrevivieron vs tamaño muestra:  0.45 %\n",
      "% personas con 4 esposa/hermanos que sobrevivieron vs tamaño muestra:  0.34 %\n",
      "\n",
      "% personas con 0 esposa/hermanos que sobrevivieron vs personas con 0 esposa/hermanos totales:  34.54 %\n",
      "% personas con 1 esposa/hermanos que sobrevivieron vs personas con 1 esposa/hermanos totales:  53.59 %\n",
      "% personas con 2 esposa/hermanos que sobrevivieron vs personas con 2 esposa/hermanos totales:  46.43 %\n",
      "% personas con 3 esposa/hermanos que sobrevivieron vs personas con 3 esposa/hermanos totales:  25.00 %\n",
      "% personas con 4 esposa/hermanos que sobrevivieron vs personas con 4 esposa/hermanos totales:  16.67 %\n"
     ]
    }
   ],
   "source": [
    "qty_sibsp = train_data['SibSp'].value_counts()\n",
    "qty_sibsp_survived = train_data[train_data['Survived']==1]['SibSp'].value_counts()\n",
    "\n",
    "# Porcentaje de Sobrevivientes por ctdad de Hermanos y Esposa vs Totales\n",
    "print('% personas con 0 esposa/hermanos que sobrevivieron vs tamaño muestra: ',\n",
    "      '{0:.2f}'.format(qty_sibsp_survived[0]/train_data.shape[0] * 100), '%')\n",
    "print('% personas con 1 esposa/hermanos que sobrevivieron vs tamaño muestra: ',\n",
    "      '{0:.2f}'.format(qty_sibsp_survived[1]/train_data.shape[0] * 100), '%')\n",
    "print('% personas con 2 esposa/hermanos que sobrevivieron vs tamaño muestra: ',\n",
    "      '{0:.2f}'.format(qty_sibsp_survived[2]/train_data.shape[0] * 100), '%')\n",
    "print('% personas con 3 esposa/hermanos que sobrevivieron vs tamaño muestra: ',\n",
    "      '{0:.2f}'.format(qty_sibsp_survived[3]/train_data.shape[0] * 100), '%')\n",
    "print('% personas con 4 esposa/hermanos que sobrevivieron vs tamaño muestra: ',\n",
    "      '{0:.2f}'.format(qty_sibsp_survived[4]/train_data.shape[0] * 100), '%')\n",
    "\n",
    "\n",
    "print(\"\")\n",
    "\n",
    "# Porcentaje de Sobrevivientes por Género vs Género\n",
    "print('% personas con 0 esposa/hermanos que sobrevivieron vs ' +\n",
    "      'personas con 0 esposa/hermanos totales: ',\n",
    "      '{0:.2f}'.format(qty_sibsp_survived[0]/qty_sibsp[0] * 100), '%')\n",
    "print('% personas con 1 esposa/hermanos que sobrevivieron vs ' +\n",
    "      'personas con 1 esposa/hermanos totales: ',\n",
    "      '{0:.2f}'.format(qty_sibsp_survived[1]/qty_sibsp[1] * 100), '%')\n",
    "print('% personas con 2 esposa/hermanos que sobrevivieron vs ' +\n",
    "      'personas con 2 esposa/hermanos totales: ',\n",
    "      '{0:.2f}'.format(qty_sibsp_survived[2]/qty_sibsp[2] * 100), '%')\n",
    "print('% personas con 3 esposa/hermanos que sobrevivieron vs ' +\n",
    "      'personas con 3 esposa/hermanos totales: ',\n",
    "      '{0:.2f}'.format(qty_sibsp_survived[3]/qty_sibsp[3] * 100), '%')\n",
    "print('% personas con 4 esposa/hermanos que sobrevivieron vs ' +\n",
    "      'personas con 4 esposa/hermanos totales: ',\n",
    "      '{0:.2f}'.format(qty_sibsp_survived[4]/qty_sibsp[4] * 100), '%')"
   ]
  },
  {
   "cell_type": "markdown",
   "metadata": {},
   "source": [
    "### Obs.\n",
    "Se puede concluir que la cantidad de hermanos/esposa del tripulante es una variable que impacta en la probabilidad de supervivencia en el siguiente orden. \n",
    "- 1 hermano/esposa\n",
    "- 2 hermanos/esposa, \n",
    "- 0 hermanos/esposa\n",
    "- 3 hermanos/esposa\n",
    "- 4 hermanos/esposa\n",
    "\n",
    "Por otro lado, como había más tripulantes sin parentezco de hermanos o esposa, fueron el grupo en el cual se salvo más personas, con un 23.57%."
   ]
  },
  {
   "cell_type": "code",
   "execution_count": 18,
   "metadata": {},
   "outputs": [
    {
     "data": {
      "image/png": "[encoded data removed]",
      "text/plain": [
       "<Figure size 720x360 with 1 Axes>"
      ]
     },
     "metadata": {
      "needs_background": "light"
     },
     "output_type": "display_data"
    }
   ],
   "source": [
    "bar_chart('Parch')"
   ]
  },
  {
   "cell_type": "code",
   "execution_count": 64,
   "metadata": {},
   "outputs": [
    {
     "name": "stdout",
     "output_type": "stream",
     "text": [
      "% personas con 0 padres/hijos que sobrevivieron vs tamaño muestra:  26.15 %\n",
      "% personas con 1 padres/hijos que sobrevivieron vs tamaño muestra:  7.30 %\n",
      "% personas con 2 padres/hijos que sobrevivieron vs tamaño muestra:  4.49 %\n",
      "% personas con 3 padres/hijos que sobrevivieron vs tamaño muestra:  0.34 %\n",
      "\n",
      "% personas con 0 padre/hijo que sobrevivieron vs personas con 0 padre/hijo totales:  34.37 %\n",
      "% personas con 1 padres/hijos que sobrevivieron vs personas con 1 padre/hijo totales:  55.08 %\n",
      "% personas con 2 padres/hijos que sobrevivieron vs personas con 2 padres/hijos totales:  50.00 %\n",
      "% personas con 3 padres/hijos que sobrevivieron vs personas con 3 padres/hijos totales:  60.00 %\n"
     ]
    }
   ],
   "source": [
    "qty_parch = train_data['Parch'].value_counts()\n",
    "qty_parch_survived = train_data[train_data['Survived']==1]['Parch'].value_counts()\n",
    "\n",
    "# Porcentaje de Sobrevivientes por ctdad de Hermanos y Esposa vs Totales\n",
    "print('% personas con 0 padres/hijos que sobrevivieron vs tamaño muestra: ',\n",
    "      '{0:.2f}'.format(qty_parch_survived[0]/train_data.shape[0] * 100), '%')\n",
    "print('% personas con 1 padres/hijos que sobrevivieron vs tamaño muestra: ',\n",
    "      '{0:.2f}'.format(qty_parch_survived[1]/train_data.shape[0] * 100), '%')\n",
    "print('% personas con 2 padres/hijos que sobrevivieron vs tamaño muestra: ',\n",
    "      '{0:.2f}'.format(qty_parch_survived[2]/train_data.shape[0] * 100), '%')\n",
    "print('% personas con 3 padres/hijos que sobrevivieron vs tamaño muestra: ',\n",
    "      '{0:.2f}'.format(qty_parch_survived[3]/train_data.shape[0] * 100), '%')\n",
    "\n",
    "\n",
    "print(\"\")\n",
    "\n",
    "# Porcentaje de Sobrevivientes por Género vs Género\n",
    "print('% personas con 0 padre/hijo que sobrevivieron vs ' +\n",
    "      'personas con 0 padre/hijo totales: ',\n",
    "      '{0:.2f}'.format(qty_parch_survived[0]/qty_parch[0] * 100), '%')\n",
    "print('% personas con 1 padres/hijos que sobrevivieron vs ' +\n",
    "      'personas con 1 padre/hijo totales: ',\n",
    "      '{0:.2f}'.format(qty_parch_survived[1]/qty_parch[1] * 100), '%')\n",
    "print('% personas con 2 padres/hijos que sobrevivieron vs ' +\n",
    "      'personas con 2 padres/hijos totales: ',\n",
    "      '{0:.2f}'.format(qty_parch_survived[2]/qty_parch[2] * 100), '%')\n",
    "print('% personas con 3 padres/hijos que sobrevivieron vs ' +\n",
    "      'personas con 3 padres/hijos totales: ',\n",
    "      '{0:.2f}'.format(qty_parch_survived[3]/qty_parch[3] * 100), '%')"
   ]
  },
  {
   "cell_type": "markdown",
   "metadata": {},
   "source": [
    "### Obs.\n",
    "Se puede concluir que la cantidad de padres/hijos del tripulante es una variable que impacta en la probabilidad de supervivencia en el siguiente orden. \n",
    "- 3 padres/hijos\n",
    "- 1 padre/hijo\n",
    "- 2 padres/hijos\n",
    "- 0 padres/hijos\n",
    "\n",
    "Por otro lado, como había más tripulantes sin parentezco de padres o hijos, fueron el grupo en el cual se salvo más personas, con un 26.15%.\n",
    "\n",
    "Este fenómenos se puede deber a que los niños, tienen prioridad para acceder a salvavidas y botes, al igual que las mujeres. Además, tenemos la certeza de que los niños venían con algun acompañante adulto (padre, madre, tutor, etc.) que probablemente también ganaría el privilegio de acompañar a dicho niño, para poder hacerse cargo de él posteriormente."
   ]
  },
  {
   "cell_type": "code",
   "execution_count": 19,
   "metadata": {},
   "outputs": [
    {
     "data": {
      "image/png": "[encoded data removed]",
      "text/plain": [
       "<Figure size 720x360 with 1 Axes>"
      ]
     },
     "metadata": {
      "needs_background": "light"
     },
     "output_type": "display_data"
    }
   ],
   "source": [
    "bar_chart('Embarked')"
   ]
  },
  {
   "cell_type": "code",
   "execution_count": 68,
   "metadata": {},
   "outputs": [
    {
     "name": "stdout",
     "output_type": "stream",
     "text": [
      "% Puerto S que sobrevivieron vs tamaño muestra:  24.354657687991022 %\n",
      "% Puerto C que sobrevivieron vs tamaño muestra:  10.437710437710438 %\n",
      "% Puerto Q que sobrevivieron vs tamaño muestra:  3.3670033670033668 %\n",
      "\n",
      "% Puerto S que sobrevivieron vs Puerto S totales:  33.69565217391305 %\n",
      "% Puerto C que sobrevivieron vs Puerto C totales:  55.35714285714286 %\n",
      "% Puerto Q que sobrevivieron vs Puerto Q totales:  38.961038961038966 %\n"
     ]
    }
   ],
   "source": [
    "qty_embarked = train_data['Embarked'].value_counts()\n",
    "qty_embarked_survived = train_data[train_data['Survived']==1]['Embarked'].value_counts()\n",
    "\n",
    "# Porcentaje de Sobrevivientes por Puerto de Embarque\n",
    "print('% Puerto S que sobrevivieron vs tamaño muestra: ',\n",
    "      qty_embarked_survived['S']/train_data.shape[0] * 100, '%')\n",
    "print('% Puerto C que sobrevivieron vs tamaño muestra: ',\n",
    "      qty_embarked_survived['C']/train_data.shape[0] * 100, '%')\n",
    "print('% Puerto Q que sobrevivieron vs tamaño muestra: ',\n",
    "      qty_embarked_survived['Q']/train_data.shape[0] * 100, '%')\n",
    "\n",
    "print(\"\")\n",
    "\n",
    "# Porcentaje de Sobrevivientes por Género vs Género\n",
    "print('% Puerto S que sobrevivieron vs Puerto S totales: ',\n",
    "      qty_embarked_survived['S']/qty_embarked['S'] * 100, '%')\n",
    "print('% Puerto C que sobrevivieron vs Puerto C totales: ',\n",
    "      qty_embarked_survived['C']/qty_embarked['C'] * 100, '%')\n",
    "print('% Puerto Q que sobrevivieron vs Puerto Q totales: ',\n",
    "      qty_embarked_survived['Q']/qty_embarked['Q'] * 100, '%')"
   ]
  },
  {
   "cell_type": "markdown",
   "metadata": {},
   "source": [
    "### Obs.\n",
    "Hay una ligera tendencia a que los tripulantes del Puerto C sobrevivan. El resto se mantiene estable dentro de la medición.\n",
    "\n",
    "Habría que estudiar la variable más a fondo para poder determinar realmente qué es lo que impacta esta gran diferencia."
   ]
  }
 ],
 "metadata": {
  "kernelspec": {
   "display_name": "Python 3",
   "language": "python",
   "name": "python3"
  },
  "language_info": {
   "codemirror_mode": {
    "name": "ipython",
    "version": 3
   },
   "file_extension": ".py",
   "mimetype": "text/x-python",
   "name": "python",
   "nbconvert_exporter": "python",
   "pygments_lexer": "ipython3",
   "version": "3.7.0"
  }
 },
 "nbformat": 4,
 "nbformat_minor": 2
}
